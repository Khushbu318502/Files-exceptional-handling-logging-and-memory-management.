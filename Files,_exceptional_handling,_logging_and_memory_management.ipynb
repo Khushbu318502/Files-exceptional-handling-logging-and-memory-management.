{
  "nbformat": 4,
  "nbformat_minor": 0,
  "metadata": {
    "colab": {
      "provenance": []
    },
    "kernelspec": {
      "name": "python3",
      "display_name": "Python 3"
    },
    "language_info": {
      "name": "python"
    }
  },
  "cells": [
    {
      "cell_type": "markdown",
      "source": [
        "# Files, exceptional handling, logging and memory management Questions"
      ],
      "metadata": {
        "id": "m4kKX5f-P13f"
      }
    },
    {
      "cell_type": "markdown",
      "source": [
        "1. What is the difference between interpreted and compiled languages ?\n",
        "  - Interpreted languages execute code line-by-line at runtime using an interpreter, which makes them easier to debug but slower.\n",
        "Example: Python, JavaScript.\n",
        "\n",
        "  - Compiled languages are translated into machine code before execution, producing faster programs but requiring recompilation after changes.\n",
        "Example: C, C++."
      ],
      "metadata": {
        "id": "WmlVT_CtQEoi"
      }
    },
    {
      "cell_type": "markdown",
      "source": [
        "2. What is exception handling in Python ?\n",
        "  - Exception handling in Python is a mechanism to deal with runtime errors gracefully without crashing the program.\n",
        "It uses try, except, else, and finally blocks to detect and respond to exceptions.\n",
        "\n",
        "    Example:\n",
        "\n",
        "    try:\n",
        "\n",
        "    num = int(input(\"Enter a number: \"))\n",
        "\n",
        "    result = 10 / num\n",
        "\n",
        "    print(\"Result:\", result)\n",
        "\n",
        "    except ZeroDivisionError:\n",
        "\n",
        "    print(\"Error: Division by zero is not allowed.\")\n",
        "\n",
        "    except ValueError:\n",
        "\n",
        "    print(\"Error: Invalid input. Please enter a number.\")\n",
        "\n",
        "    else:\n",
        "\n",
        "    print(\"No errors occurred.\")\n",
        "\n",
        "    finally:\n",
        "    \n",
        "    print(\"Execution finished.\")"
      ],
      "metadata": {
        "id": "CUVXQxqzb_Pz"
      }
    },
    {
      "cell_type": "markdown",
      "source": [
        "3. What is the purpose of the finally block in exception handling ?\n",
        "  - The finally block in Python is used to define code that must run no matter what — whether an exception occurs or not.\n",
        "\n",
        "  - Its main purpose is to perform cleanup tasks like closing files, releasing resources, or disconnecting from a database.\n",
        "\n",
        "    Example:\n",
        "\n",
        "    try:\n",
        "\n",
        "    file = open(\"data.txt\", \"r\")\n",
        "\n",
        "    data = file.read()\n",
        "\n",
        "    print(data)\n",
        "\n",
        "    except FileNotFoundError:\n",
        "\n",
        "    print(\"File not found.\")\n",
        "\n",
        "    finally:\n",
        "\n",
        "    file.close()\n",
        "    \n",
        "    print(\"File closed.\")\n"
      ],
      "metadata": {
        "id": "kxO9lMPVdhCc"
      }
    },
    {
      "cell_type": "markdown",
      "source": [
        "4.  What is logging in Python ?\n",
        "  - Logging in Python is the process of recording messages about a program’s execution, such as errors, warnings, or other runtime information, to help in debugging, monitoring, and auditing.\n",
        "\n",
        "  - Python provides a built-in logging module that lets you log messages at different severity levels:\n",
        "\n",
        "     - DEBUG – detailed diagnostic info (lowest level)\n",
        "\n",
        "     - INFO – general events confirming things work as expected\n",
        "\n",
        "     - WARNING – something unexpected happened but the program still works\n",
        "\n",
        "     - ERROR – a serious problem; part of the program failed\n",
        "\n",
        "     - CRITICAL – severe errors; the program may not continue\n",
        "\n",
        "  - Example\n",
        "\n",
        "       import logging\n",
        "\n",
        "       Configure logging\n",
        "\n",
        "        logging.basicConfig(level=logging.INFO)\n",
        "\n",
        "         logging.debug(\"This is a debug message.\")\n",
        "\n",
        "        logging.info(\"Application started.\")\n",
        "\n",
        "         logging.warning(\"Low disk space.\")\n",
        "\n",
        "        logging.error(\"File not found.\")\n",
        "\n",
        "         logging.critical(\"System crash!\")"
      ],
      "metadata": {
        "id": "kwKPnk1VeYCS"
      }
    },
    {
      "cell_type": "markdown",
      "source": [
        "5. What is the significance of the __del__ method in Python ?\n",
        "  - In Python, the __del__ method is a destructor — it is called automatically when an object is about to be destroyed (i.e., when it is no longer referenced).\n",
        "\n",
        "    Significance:\n",
        "\n",
        "    - Used for cleanup tasks like closing files, releasing network connections, or freeing resources before an object is removed from memory.\n",
        "\n",
        "    - It runs when Python’s garbage collector deletes the object, but timing is not guaranteed, so it’s not reliable for critical cleanup (better to use with or try...finally).\n",
        "\n",
        "     Example:\n",
        "\n",
        "     class FileHandler:\n",
        "\n",
        "    def __init__(self, filename):\n",
        "\n",
        "        self.file = open(filename, \"w\")\n",
        "\n",
        "        print(\"File opened.\")\n",
        "\n",
        "    def __del__(self):\n",
        "\n",
        "        self.file.close()\n",
        "\n",
        "        print(\"File closed and object destroyed.\")\n",
        "\n",
        "     Creating and deleting an object\n",
        "\n",
        "     handler = FileHandler(\"test.txt\")\n",
        "\n",
        "      del handler  # Explicitly deleting (triggers __del__)"
      ],
      "metadata": {
        "id": "uEPkMBXKgANK"
      }
    },
    {
      "cell_type": "markdown",
      "source": [
        "6. What is the difference between import and from ... import in Python ?\n",
        "  - import brings the whole module into your program, and you access its functions or variables using the module name as a prefix.\n",
        "Example: import math → math.sqrt(16).\n",
        "\n",
        "  - from ... import brings specific functions, classes, or variables directly into your namespace, letting you use them without the module prefix.\n",
        "Example: from math import sqrt → sqrt(16)."
      ],
      "metadata": {
        "id": "xr-eId6QpZdU"
      }
    },
    {
      "cell_type": "markdown",
      "source": [
        "7. How can you handle multiple exceptions in Python ?\n",
        "  - How can you handle multiple exceptions in Python\n",
        "\n",
        "    try:\n",
        "\n",
        "    num = int(input(\"Enter a number: \"))\n",
        "\n",
        "    result = 10 / num\n",
        "\n",
        "    except ValueError:\n",
        "\n",
        "    print(\"Invalid input. Please enter a number.\")\n",
        "\n",
        "    except ZeroDivisionError:\n",
        "\n",
        "    print(\"Cannot divide by zero.\")\n",
        "\n",
        "  - Catching multiple exceptions in one block using a tuple:\n",
        "\n",
        "    try:\n",
        "\n",
        "    num = int(input(\"Enter a number: \"))\n",
        "\n",
        "    result = 10 / num\n",
        "\n",
        "    except (ValueError, ZeroDivisionError) as e:\n",
        "    \n",
        "    print(\"Error occurred:\", e)"
      ],
      "metadata": {
        "id": "fX_JZy0up6nS"
      }
    },
    {
      "cell_type": "markdown",
      "source": [
        "8. What is the purpose of the with statement when handling files in Python ?\n",
        "  - he with statement in Python is used to handle files (and other resources) in a way that automatically manages setup and cleanup, so you don’t need to explicitly close the file.\n",
        "\n",
        "  - Purpose:\n",
        "\n",
        "      - Ensures the file is closed even if an error occurs.\n",
        "\n",
        "      - Makes code cleaner and reduces the risk of resource leaks.\n",
        "\n",
        "   - Example\n",
        "\n",
        "      Without with\n",
        "\n",
        "      file = open(\"data.txt\", \"r\")\n",
        "\n",
        "      try:\n",
        "\n",
        "      content = file.read()\n",
        "\n",
        "      finally:\n",
        "\n",
        "      file.close()\n",
        "\n",
        "      With with\n",
        "\n",
        "      with open(\"data.txt\", \"r\") as file:\n",
        "      \n",
        "    content = file.read()  # File auto-closed after block"
      ],
      "metadata": {
        "id": "M7UVOYR8uHPi"
      }
    },
    {
      "cell_type": "markdown",
      "source": [
        "9. What is the difference between multithreading and multiprocessing ?\n",
        "  - Multithreading runs multiple threads within the same process, sharing the same memory space. It’s lightweight and good for I/O-bound tasks but limited by Python’s GIL for CPU-bound work.\n",
        "Example: Downloading files concurrently.\n",
        "\n",
        "  - Multiprocessing runs multiple separate processes, each with its own memory space. It bypasses the GIL, making it better for CPU-bound tasks but with higher memory and communication overhead.\n",
        "Example: Parallel data processing."
      ],
      "metadata": {
        "id": "BsBqQl18vFho"
      }
    },
    {
      "cell_type": "markdown",
      "source": [
        "10. What are the advantages of using logging in a program ?\n",
        "   - Advantages of using logging in a program:\n",
        "\n",
        "       - Better than print() – provides structured and configurable output instead of simple text.\n",
        "\n",
        "       - Multiple severity levels – DEBUG, INFO, WARNING, ERROR, CRITICAL help categorize messages.\n",
        "\n",
        "       - Persistent records – can write logs to files for future analysis.\n",
        "\n",
        "       - Easier debugging – helps trace issues without stopping the program.\n",
        "\n",
        "       - Configurable output – choose format, destination, and filtering without changing core code.\n",
        "\n",
        "      - Supports production monitoring – helps track program behavior in real time.\n",
        "\n",
        "      - Thread/process safe – works reliably in concurrent environments\n",
        "\n",
        "      Example-\n",
        "\n",
        "      import logging\n",
        "\n",
        "      Configure logging\n",
        "      \n",
        "      logging.basicConfig(filename=\"app.log\", level=logging.INFO,\n",
        "      \n",
        "       format=\"%(asctime)s - %(levelname)s - %(message)s\")\n",
        "\n",
        "       logging.debug(\"Debugging details for developers\")\n",
        "       \n",
        "       logging.info(\"Application started successfully\")\n",
        "       \n",
        "       logging.warning(\"Low disk space warning\")\n",
        "       \n",
        "       logging.error(\"Failed to open database\")\n",
        "       \n",
        "       logging.critical(\"System crash imminent\")"
      ],
      "metadata": {
        "id": "DgBe2WJlwUFG"
      }
    },
    {
      "cell_type": "markdown",
      "source": [
        "11. What is memory management in Python ?\n",
        "  - Memory management in Python is the process of efficiently allocating, using, and freeing memory for objects during program execution.\n",
        "\n",
        "     Python handles memory automatically through:\n",
        "\n",
        "         - Private heap space – All Python objects and data structures are stored here, managed by the Python memory manager.\n",
        "\n",
        "         - Reference counting – Each object tracks how many references point to it; when this count hits zero, memory is freed.\n",
        "\n",
        "         - Garbage collection – Python’s garbage collector removes unused objects, especially those in reference cycles.\n",
        "\n",
        "         - Dynamic allocation – Memory is allocated as needed at runtime.\n",
        "\n",
        "         - Built-in tools – Modules like gc can manually control garbage collection.\n",
        "\n",
        "      Example-\n",
        "\n",
        "      import sys\n",
        "\n",
        "      x = [1, 2, 3]\n",
        "\n",
        "      print(sys.getrefcount(x))  # Shows reference count"
      ],
      "metadata": {
        "id": "ZCO3GDdkw95q"
      }
    },
    {
      "cell_type": "markdown",
      "source": [
        "12. What are the basic steps involved in exception handling in Python ?\n",
        "   - The basic steps in exception handling in Python are:\n",
        "\n",
        "         - Wrap risky code in a try block – place the code that might raise an exception.\n",
        "\n",
        "         - Catch exceptions with except – handle specific or general exceptions.\n",
        "\n",
        "         - (Optional) Use else – run code only if no exceptions occur.\n",
        "\n",
        "         - (Optional) Use finally – run cleanup code regardless of whether an exception happened.\n",
        "\n",
        "        Example-\n",
        "\n",
        "      try:\n",
        "\n",
        "     num = int(input(\"Enter a number: \"))\n",
        "\n",
        "     print(10 / num)\n",
        "\n",
        "     except ZeroDivisionError:\n",
        "\n",
        "     print(\"Cannot divide by zero.\")\n",
        "\n",
        "     except ValueError:\n",
        "\n",
        "     print(\"Please enter a valid number.\")\n",
        "\n",
        "     else:\n",
        "\n",
        "     print(\"No errors occurred.\")\n",
        "\n",
        "     finally:\n",
        "\n",
        "     print(\"Execution finished.\")"
      ],
      "metadata": {
        "id": "ypUhCeUdxy05"
      }
    },
    {
      "cell_type": "markdown",
      "source": [
        "13. Why is memory management important in Python ?\n",
        "  - Memory management is important in Python because it directly affects a program’s performance, stability, and scalability.\n",
        "\n",
        "     Key reasons:\n",
        "\n",
        "         - Prevents memory leaks – unused objects are removed so they don’t keep consuming RAM.\n",
        "\n",
        "         - Optimizes performance – efficient allocation and freeing of memory speeds up execution.\n",
        "\n",
        "         - Supports large applications – proper management avoids crashes in memory-intensive tasks.\n",
        "\n",
        "         - Automatic but not infinite – Python’s garbage collector helps, but poor coding can still waste memory.\n",
        "\n",
        "         - Ensures resource availability – frees memory for other processes and system tasks.\n",
        "\n",
        "         Example-\n",
        "\n",
        "         data = []\n",
        "\n",
        "         for _ in range(10**7):\n",
        "     \n",
        "         data.append(\"x\" * 1000)  # Huge list stays in memory\n",
        "\n",
        "         Even if not needed anymore, it still consumes RAM\n"
      ],
      "metadata": {
        "id": "PavLyb7HzCyg"
      }
    },
    {
      "cell_type": "markdown",
      "source": [
        "14. What is the role of try and except in exception handling ?\n",
        "   - In Python exception handling,\n",
        "\n",
        "         - try block → contains the code that might raise an exception. Python tries to run this code. If no error occurs, the except block is skipped.\n",
        "\n",
        "         - except block → catches and handles the exception if one occurs inside the try block, preventing the program from crashing.\n",
        "\n",
        "         Example -\n",
        "\n",
        "         try:\n",
        "\n",
        "         x = int(input(\"Enter a number: \"))\n",
        "\n",
        "         print(10 / x)\n",
        "\n",
        "         except ZeroDivisionError:\n",
        "\n",
        "         print(\"Error: Cannot divide by zero.\")\n",
        "except ValueError:\n",
        "    print(\"Error: Invalid number.\")"
      ],
      "metadata": {
        "id": "CQfEexG20VUf"
      }
    },
    {
      "cell_type": "markdown",
      "source": [
        "15.  How does Python's garbage collection system work ?\n",
        "  - Python’s garbage collection (GC) system works by automatically finding and freeing memory that is no longer in use, so the program doesn’t run out of memory.\n",
        "\n",
        "      It mainly uses two techniques:\n",
        "\n",
        "      1) Reference Counting (primary method)\n",
        "\n",
        "      - Every object keeps track of how many references point to it.\n",
        "\n",
        "      - When the count reaches zero, the object’s memory is immediately freed.\n",
        "\n",
        "      import sys\n",
        "\n",
        "      x = []\n",
        "\n",
        "      print(sys.getrefcount(x))  # Shows reference count\n",
        "\n",
        "      2) Cycle Detection (for reference cycles)\n",
        "\n",
        "      - Sometimes objects reference each other, forming a cycle, so their reference count never becomes zero.\n",
        "\n",
        "      - Python’s cyclic garbage collector (in gc module) detects and removes these unreachable cycles.\n",
        "\n",
        "      import gc\n",
        "\n",
        "      gc.collect()  # Forces garbage collection"
      ],
      "metadata": {
        "id": "kfEKuOHmAqV1"
      }
    },
    {
      "cell_type": "markdown",
      "source": [
        "16. What is the purpose of the else block in exception handling ?\n",
        "   - In Python’s exception handling, the else block is used to run code only if no exceptions occur in the try block.\n",
        "\n",
        "      Purpose:\n",
        "\n",
        "        - Keeps the “normal flow” code separate from the error-handling code.\n",
        "\n",
        "        - Makes programs easier to read and maintain.\n",
        "\n",
        "      Example\n",
        "      \n",
        "      try:\n",
        "\n",
        "      num = int(input(\"Enter a number: \"))\n",
        "\n",
        "      result = 10 / num\n",
        "\n",
        "      except ZeroDivisionError:\n",
        "       \n",
        "      print(\"Error: Division by zero.\")\n",
        "\n",
        "      except ValueError:\n",
        "\n",
        "      print(\"Error: Invalid input.\")\n",
        "\n",
        "      else:\n",
        "\n",
        "      print(\"Success! Result is:\", result)  # Runs only if no exception occurs"
      ],
      "metadata": {
        "id": "bffhXom9FJPy"
      }
    },
    {
      "cell_type": "markdown",
      "source": [
        "17. What are the common logging levels in Python ?\n",
        "  - The common logging levels in Python (from lowest to highest severity) are:\n",
        "\n",
        "     1) DEBUG – Detailed diagnostic information, useful for development and debugging.\n",
        "\n",
        "      2) INFO – General events confirming that the program is working as expected.\n",
        "\n",
        "      3) WARNING – Something unexpected happened, but the program is still running fine.\n",
        "\n",
        "      4) ERROR – A serious issue occurred, and part of the program failed.\n",
        "\n",
        "      5) CRITICAL – A severe error indicating the program might not be able to continue running.\n",
        "\n",
        "      - example\n",
        "\n",
        "     import logging\n",
        "\n",
        "      logging.basicConfig(level=logging.DEBUG)\n",
        "\n",
        "       logging.debug(\"Debugging info\")\n",
        "\n",
        "       logging.info(\"Just an update\")\n",
        "\n",
        "       logging.warning(\"This might be a problem\")\n",
        "\n",
        "       logging.error(\"Something went wrong\")\n",
        "\n",
        "       logging.critical(\"System is going down!\")\n",
        "\n"
      ],
      "metadata": {
        "id": "b9kF0NeUHEF6"
      }
    },
    {
      "cell_type": "markdown",
      "source": [
        "18. What is the difference between os.fork() and multiprocessing in Python ?\n",
        "   - os.fork() creates a new process by duplicating the current process (Unix only), offering low-level control but limited portability.\n",
        "\n",
        "      Example:\n",
        "\n",
        "     import os\n",
        "\n",
        "     pid = os.fork()\n",
        "\n",
        "   - multiprocessing is a cross-platform Python module for creating processes, offering easier API, data sharing, and process management.\n",
        "\n",
        "      Example:\n",
        "    \n",
        "     from multiprocessing import Process"
      ],
      "metadata": {
        "id": "Muf-F_RDIrA3"
      }
    },
    {
      "cell_type": "markdown",
      "source": [
        "19. What is the importance of closing a file in Python ?\n",
        "  - Closing a file in Python is important because it frees system resources, ensures all buffered data is written to disk, and prevents data corruption.\n",
        "\n",
        "     If a file isn’t closed:\n",
        "\n",
        "      - Data might remain in the buffer instead of being saved.\n",
        "\n",
        "      - File handles (limited resources) might get exhausted.\n",
        "\n",
        "      - Other programs might not be able to access the file.\n",
        "\n",
        "      Example:\n",
        "\n",
        "      file = open(\"data.txt\", \"w\")\n",
        "\n",
        "      file.write(\"Hello\")\n",
        "\n",
        "      file.close()  # Ensures data is saved\n",
        "\n"
      ],
      "metadata": {
        "id": "RqCdFOZOsnOK"
      }
    },
    {
      "cell_type": "markdown",
      "source": [
        "20. What is the difference between file.read() and file.readline() in Python ?\n",
        "  - file.read() reads the entire file (or a specified number of bytes) into a single string.\n",
        "\n",
        "     Example-\n",
        "\n",
        "     f = open(\"data.txt\", \"r\")\n",
        "\n",
        "     content = f.read()  # Reads whole file\n",
        "\n",
        "     f.close()\n",
        "\n",
        "  - file.readline() reads only one line from the file at a time, including the newline character at the end.\n",
        "\n",
        "     Example:\n",
        "\n",
        "     f = open(\"data.txt\", \"r\")\n",
        "\n",
        "     line = f.readline()  # Reads first line\n",
        "     \n",
        "     f.close()"
      ],
      "metadata": {
        "id": "mAd7GFNFtg0-"
      }
    },
    {
      "cell_type": "markdown",
      "source": [
        "21. What is the logging module in Python used for ?\n",
        "  - The logging module in Python is used for tracking events that happen during a program’s execution, so developers can monitor, debug, and analyze program behavior without using print() statements.\n",
        "\n",
        "     Key uses:\n",
        "\n",
        "     - Record messages at different severity levels (DEBUG, INFO, WARNING, ERROR, CRITICAL).\n",
        "\n",
        "     - Save logs to files, console, or other outputs.\n",
        "\n",
        "     - Include timestamps, file names, and line numbers in log messages.\n",
        "\n",
        "     - Control log formatting and filtering without changing program logic.\n",
        "\n",
        "     Example-\n",
        "\n",
        "     import logging\n",
        "\n",
        "     logging.basicConfig(filename=\"app.log\", level=logging.INFO,\n",
        "\n",
        "      format=\"%(asctime)s - %(levelname)s - %(message)s\")\n",
        "\n",
        "     logging.info(\"Application started\")\n",
        "\n",
        "     logging.warning(\"Low disk space\")\n",
        "       \n",
        "     logging.error(\"An error occurred\")"
      ],
      "metadata": {
        "id": "FFobyCUHvoTQ"
      }
    },
    {
      "cell_type": "markdown",
      "source": [
        "22. What is the os module in Python used for in file handling ?\n",
        "   - The os module in Python provides functions to interact with the operating system, allowing you to manage files, directories, and paths beyond basic open() file operations.\n",
        "\n",
        "     In file handling, os is used for:\n",
        "\n",
        "       - Creating directories → os.mkdir(\"folder\")\n",
        "\n",
        "      - Removing files → os.remove(\"file.txt\")\n",
        "\n",
        "      - Renaming files → os.rename(\"old.txt\", \"new.txt\")\n",
        "\n",
        "      - Checking file existence → os.path.exists(\"file.txt\")\n",
        "\n",
        "      - Getting file information → os.stat(\"file.txt\")\n",
        "\n",
        "      - Listing directory contents → os.listdir(\".\")\n",
        "\n",
        "       Example:\n",
        "\n",
        "       import os\n",
        "\n",
        "       if os.path.exists(\"data.txt\"):\n",
        "\n",
        "       os.rename(\"data.txt\", \"backup.txt\")\n",
        "\n",
        "       print(\"File renamed.\")"
      ],
      "metadata": {
        "id": "6jSCr92Mwr0c"
      }
    },
    {
      "cell_type": "markdown",
      "source": [
        "23. What are the challenges associated with memory management in Python ?\n",
        "   - Challenges associated with memory management in Python:\n",
        "  \n",
        "       - Reference cycles – Objects referencing each other can’t be freed by simple reference counting and require garbage collection.\n",
        "\n",
        "       - Garbage collection overhead – Automatic GC can slow down performance during collection cycles.\n",
        "\n",
        "       - Memory fragmentation – Long-running programs may suffer from fragmented memory, reducing efficiency.\n",
        "\n",
        "       - Unreleased resources – If files, sockets, or connections aren’t closed properly, memory leaks can occur.\n",
        "\n",
        "       - Large object retention – Holding references to large data structures (e.g., big lists, NumPy arrays) longer than needed increases memory use.\n",
        "\n",
        "       - Non-Python memory – Extensions in C/C++ (e.g., NumPy) manage memory outside Python’s heap, which GC doesn’t control.\n",
        "\n",
        "       - Unpredictable __del__ timing – Destructors may run later than expected, delaying cleanup.\n",
        "\n",
        "     If you want, I can also give you a table mapping each challenge to its best practice solution for memory optimization in Python.\n"
      ],
      "metadata": {
        "id": "uHjivODx0ZXp"
      }
    },
    {
      "cell_type": "markdown",
      "source": [
        "24.  How do you raise an exception manually in Python ?\n",
        "   - You can raise an exception manually in Python using the raise statement, followed by an exception class or instance.\n",
        "\n",
        "      Syntax:\n",
        "   \n",
        "      raise ExceptionType(\"Error message\")\n",
        "\n",
        "      Example:\n",
        "\n",
        "      age = -5\n",
        "\n",
        "      if age < 0:\n",
        "\n",
        "      raise ValueError(\"Age cannot be negative\")\n"
      ],
      "metadata": {
        "id": "USxOxW7K1pPg"
      }
    },
    {
      "cell_type": "markdown",
      "source": [
        "25. Why is it important to use multithreading in certain applications ?\n",
        "   - Multithreading is important in certain applications because it allows multiple tasks to run concurrently within the same process, improving efficiency and responsiveness, especially for I/O-bound operations.\n",
        "\n",
        "     Example-\n",
        "\n",
        "     import threading\n",
        "\n",
        "     import time\n",
        "\n",
        "     def download_file(file_name):\n",
        "\n",
        "     print(f\"Downloading {file_name}...\")\n",
        "\n",
        "     time.sleep(2)  # Simulate download delay\n",
        "\n",
        "     print(f\"{file_name} downloaded.\")\n",
        "\n",
        "     files = [\"file1.txt\", \"file2.txt\", \"file3.txt\"]\n",
        "\n",
        "     threads = []\n",
        "\n",
        "     for file in files:\n",
        "\n",
        "     t = threading.Thread(target=download_file, args=(file,))\n",
        "\n",
        "     threads.append(t)\n",
        "\n",
        "     t.start()\n",
        "\n",
        "     for t in threads:\n",
        "   \n",
        "      t.join()\n",
        "\n",
        "      print(\"All downloads complete.\")"
      ],
      "metadata": {
        "id": "d4WxTl0t4Sll"
      }
    },
    {
      "cell_type": "markdown",
      "source": [
        "# Practical Questions"
      ],
      "metadata": {
        "id": "G6CP6uI1AmVT"
      }
    },
    {
      "cell_type": "markdown",
      "source": [
        "1. How can you open a file for writing in Python and write a string to it ?\n",
        "  "
      ],
      "metadata": {
        "id": "OWW2uzINAshC"
      }
    },
    {
      "cell_type": "code",
      "source": [
        "# Open file in write mode\n",
        "file = open(\"example.txt\", \"w\")\n",
        "\n",
        "# Write a string to the file\n",
        "file.write(\"Hello, this is a test string.\")\n",
        "\n",
        "# Close the file\n",
        "file.close()"
      ],
      "metadata": {
        "id": "s0RLoMd3BL25"
      },
      "execution_count": null,
      "outputs": []
    },
    {
      "cell_type": "markdown",
      "source": [
        "2. Write a Python program to read the contents of a file and print each line ?"
      ],
      "metadata": {
        "id": "WJH7lc3FBSGq"
      }
    },
    {
      "cell_type": "code",
      "source": [
        "# Open the file in read mode\n",
        "with open(\"example.txt\", \"r\") as file:\n",
        "    # Loop through each line in the file\n",
        "    for line in file:\n",
        "        print(line.strip())  # strip() removes extra spaces/newlines"
      ],
      "metadata": {
        "id": "_UUT0rOYuGba"
      },
      "execution_count": null,
      "outputs": []
    },
    {
      "cell_type": "markdown",
      "source": [
        "3. How would you handle a case where the file doesn't exist while trying to open it for reading ?\n",
        "  "
      ],
      "metadata": {
        "id": "1G_YH3v4BnOZ"
      }
    },
    {
      "cell_type": "code",
      "execution_count": null,
      "metadata": {
        "id": "Z1ej2tHLP01M"
      },
      "outputs": [],
      "source": [
        "filename = \"data.txt\"\n",
        "\n",
        "try:\n",
        "    with open(filename, \"r\") as file:\n",
        "        for line in file:\n",
        "            print(line.strip())\n",
        "except FileNotFoundError:\n",
        "    print(f\"Error: The file '{filename}' was not found.\")"
      ]
    },
    {
      "cell_type": "markdown",
      "source": [
        "4.  Write a Python script that reads from one file and writes its content to another file"
      ],
      "metadata": {
        "id": "EkGRCmM2EIcd"
      }
    },
    {
      "cell_type": "code",
      "source": [
        "# Source and destination file names\n",
        "source_file = \"source.txt\"\n",
        "destination_file = \"destination.txt\"\n",
        "\n",
        "try:\n",
        "    # Open source file for reading\n",
        "    with open(source_file, \"r\") as src:\n",
        "        # Read all content\n",
        "        content = src.read()\n",
        "\n",
        "    # Open destination file for writing\n",
        "    with open(destination_file, \"w\") as dest:\n",
        "        dest.write(content)\n",
        "\n",
        "    print(f\"Contents copied from '{source_file}' to '{destination_file}' successfully.\")\n",
        "except FileNotFoundError:\n",
        "    print(f\"Error: The file '{source_file}' was not found.\")"
      ],
      "metadata": {
        "id": "4TYbnLmVFSyi"
      },
      "execution_count": null,
      "outputs": []
    },
    {
      "cell_type": "markdown",
      "source": [
        "5. How would you catch and handle division by zero error in Python ?"
      ],
      "metadata": {
        "id": "UUYezgc4Id-Z"
      }
    },
    {
      "cell_type": "code",
      "source": [
        "try:\n",
        "    numerator = 10\n",
        "    denominator = 0\n",
        "    result = numerator / denominator\n",
        "    print(\"Result:\", result)\n",
        "except ZeroDivisionError:\n",
        "    print(\"Error: Division by zero is not allowed.\")"
      ],
      "metadata": {
        "id": "ELYcJhz1IpQS"
      },
      "execution_count": null,
      "outputs": []
    },
    {
      "cell_type": "markdown",
      "source": [
        "6.  Write a Python program that logs an error message to a log file when a division by zero exception occurs"
      ],
      "metadata": {
        "id": "a199G_-eEN_k"
      }
    },
    {
      "cell_type": "code",
      "source": [
        "import logging\n",
        "\n",
        "# Configure logging to write errors to a file\n",
        "logging.basicConfig(\n",
        "    filename='error.log',\n",
        "    level=logging.ERROR,\n",
        "    format='%(asctime)s - %(levelname)s - %(message)s'\n",
        ")\n",
        "\n",
        "try:\n",
        "    numerator = 10\n",
        "    denominator = 0\n",
        "    result = numerator / denominator\n",
        "    print(\"Result:\", result)\n",
        "\n",
        "except ZeroDivisionError as e:\n",
        "    logging.error(\"Division by zero error occurred: %s\", e)\n",
        "    print(\"An error occurred. Please check the log file for details.\")"
      ],
      "metadata": {
        "id": "BId-k2XGKjrY"
      },
      "execution_count": null,
      "outputs": []
    },
    {
      "cell_type": "markdown",
      "source": [
        "7. How do you log information at different levels (INFO, ERROR, WARNING) in Python using the logging module ?"
      ],
      "metadata": {
        "id": "EdV9iaISK41N"
      }
    },
    {
      "cell_type": "code",
      "source": [
        "import logging\n",
        "\n",
        "# Configure logging\n",
        "logging.basicConfig(\n",
        "    filename='app.log',      # Log file name\n",
        "    level=logging.DEBUG,     # Minimum logging level\n",
        "    format='%(asctime)s - %(levelname)s - %(message)s'\n",
        ")\n",
        "\n",
        "# Log messages at different levels\n",
        "logging.debug(\"This is a DEBUG message (for detailed troubleshooting).\")\n",
        "logging.info(\"This is an INFO message (for general information).\")\n",
        "logging.warning(\"This is a WARNING message (something unexpected happened).\")\n",
        "logging.error(\"This is an ERROR message (an error occurred).\")\n",
        "logging.critical(\"This is a CRITICAL message (serious error, program may not continue).\")"
      ],
      "metadata": {
        "id": "RD-Un7fELEpW"
      },
      "execution_count": null,
      "outputs": []
    },
    {
      "cell_type": "markdown",
      "source": [
        "8. Write a program to handle a file opening error using exception handling ?"
      ],
      "metadata": {
        "id": "hJZNPLEwLYkd"
      }
    },
    {
      "cell_type": "code",
      "source": [
        "try:\n",
        "    # Attempt to open a file that may not exist\n",
        "    with open(\"nonexistent_file.txt\", \"r\") as file:\n",
        "        content = file.read()\n",
        "        print(content)\n",
        "\n",
        "except FileNotFoundError:\n",
        "    print(\"Error: The file you are trying to open does not exist.\")\n",
        "\n",
        "except PermissionError:\n",
        "    print(\"Error: You don't have permission to open this file.\")\n",
        "\n",
        "except Exception as e:\n",
        "    print(f\"An unexpected error occurred: {e}\")"
      ],
      "metadata": {
        "id": "hy4xFLSALglv"
      },
      "execution_count": null,
      "outputs": []
    },
    {
      "cell_type": "markdown",
      "source": [
        "9.  How can you read a file line by line and store its content in a list in Python ?"
      ],
      "metadata": {
        "id": "o0E9dPcTLoEU"
      }
    },
    {
      "cell_type": "code",
      "source": [
        "# Read file line by line and store in a list\n",
        "lines_list = []\n",
        "\n",
        "try:\n",
        "    with open(\"example.txt\", \"r\") as file:\n",
        "        lines_list = file.readlines()  # Reads all lines into a list\n",
        "\n",
        "    # Optional: remove newline characters\n",
        "    lines_list = [line.strip() for line in lines_list]\n",
        "\n",
        "    print(lines_list)\n",
        "\n",
        "except FileNotFoundError:\n",
        "    print(\"Error: File not found.\")"
      ],
      "metadata": {
        "id": "7d6ELww6Lv9e"
      },
      "execution_count": null,
      "outputs": []
    },
    {
      "cell_type": "markdown",
      "source": [
        "10. How can you append data to an existing file in Python ?"
      ],
      "metadata": {
        "id": "4236QsHJMG85"
      }
    },
    {
      "cell_type": "code",
      "source": [
        "try:\n",
        "    # Open file in append mode\n",
        "    with open(\"example.txt\", \"a\") as file:\n",
        "        file.write(\"This is a new line.\\n\")\n",
        "    print(\"Data appended successfully.\")\n",
        "except Exception as e:\n",
        "    print(f\"An error occurred: {e}\")"
      ],
      "metadata": {
        "id": "_Z27Mp5xMPA8"
      },
      "execution_count": null,
      "outputs": []
    },
    {
      "cell_type": "markdown",
      "source": [
        "11.  Write a Python program that uses a try-except block to handle an error when attempting to access a\n",
        "dictionary key that doesn't exist ?"
      ],
      "metadata": {
        "id": "viK7yx7gMWWn"
      }
    },
    {
      "cell_type": "code",
      "source": [
        "# Sample dictionary\n",
        "student = {\n",
        "    \"name\": \"Alice\",\n",
        "    \"age\": 20,\n",
        "    \"course\": \"Computer Science\"\n",
        "}\n",
        "\n",
        "try:\n",
        "    # Attempt to access a non-existing key\n",
        "    grade = student[\"grade\"]\n",
        "    print(\"Grade:\", grade)\n",
        "\n",
        "except KeyError as e:\n",
        "    print(f\"Error: The key '{e.args[0]}' does not exist in the dictionary.\")"
      ],
      "metadata": {
        "id": "BqG21ROSMeYG"
      },
      "execution_count": null,
      "outputs": []
    },
    {
      "cell_type": "markdown",
      "source": [
        "12. Write a program that demonstrates using multiple except blocks to handle different types of exceptions ?"
      ],
      "metadata": {
        "id": "cgRmROGIMnBJ"
      }
    },
    {
      "cell_type": "code",
      "source": [
        "try:\n",
        "    # Get user input\n",
        "    num1 = int(input(\"Enter first number: \"))\n",
        "    num2 = int(input(\"Enter second number: \"))\n",
        "\n",
        "    # Perform division\n",
        "    result = num1 / num2\n",
        "    print(\"Result:\", result)\n",
        "\n",
        "except ValueError:\n",
        "    print(\"Error: Please enter valid integer numbers.\")\n",
        "\n",
        "except ZeroDivisionError:\n",
        "    print(\"Error: Cannot divide by zero.\")\n",
        "\n",
        "except Exception as e:\n",
        "    print(f\"An unexpected error occurred: {e}\")"
      ],
      "metadata": {
        "id": "zSiQKIR7M4Kv"
      },
      "execution_count": null,
      "outputs": []
    },
    {
      "cell_type": "markdown",
      "source": [
        "13. How would you check if a file exists before attempting to read it in Python ?"
      ],
      "metadata": {
        "id": "2l7MG4uaM66F"
      }
    },
    {
      "cell_type": "code",
      "source": [
        "Example using os.path.exists()\n",
        "\n",
        "import os\n",
        "\n",
        "filename = \"example.txt\"\n",
        "\n",
        "if os.path.exists(filename):\n",
        "    with open(filename, \"r\") as file:\n",
        "        content = file.read()\n",
        "        print(content)\n",
        "else:\n",
        "    print(f\"Error: '{filename}' does not exist.\")\n",
        "\n",
        "Example using pathlib.Path (more modern approach)\n",
        "\n",
        "from pathlib import Path\n",
        "\n",
        "file_path = Path(\"example.txt\")\n",
        "\n",
        "if file_path.exists():\n",
        "    with file_path.open(\"r\") as file:\n",
        "        content = file.read()\n",
        "        print(content)\n",
        "else:\n",
        "    print(f\"Error: '{file_path}' does not exist.\")"
      ],
      "metadata": {
        "id": "jWF7WAnsNC4a"
      },
      "execution_count": null,
      "outputs": []
    },
    {
      "cell_type": "markdown",
      "source": [
        "14. Write a program that uses the logging module to log both informational and error messages ?"
      ],
      "metadata": {
        "id": "u_b4zG00NXy-"
      }
    },
    {
      "cell_type": "code",
      "source": [
        "import logging\n",
        "\n",
        "# Configure logging\n",
        "logging.basicConfig(\n",
        "    filename='app.log',\n",
        "    level=logging.DEBUG,  # Logs DEBUG and above (INFO, WARNING, ERROR, CRITICAL)\n",
        "    format='%(asctime)s - %(levelname)s - %(message)s'\n",
        ")\n",
        "\n",
        "try:\n",
        "    logging.info(\"Program started.\")\n",
        "\n",
        "    num1 = int(input(\"Enter first number: \"))\n",
        "    num2 = int(input(\"Enter second number: \"))\n",
        "\n",
        "    result = num1 / num2\n",
        "    logging.info(f\"Division successful. Result: {result}\")\n",
        "    print(\"Result:\", result)\n",
        "\n",
        "except ZeroDivisionError as e:\n",
        "    logging.error(f\"Division by zero error: {e}\")\n",
        "    print(\"Error: Cannot divide by zero.\")\n",
        "\n",
        "except ValueError as e:\n",
        "    logging.error(f\"Invalid input: {e}\")\n",
        "    print(\"Error: Please enter valid numbers.\")\n",
        "\n",
        "except Exception as e:\n",
        "    logging.error(f\"Unexpected error: {e}\")\n",
        "    print(f\"An unexpected error occurred: {e}\")\n",
        "\n",
        "finally:\n",
        "    logging.info(\"Program ended.\")"
      ],
      "metadata": {
        "id": "kDe5Cn44Ne_F"
      },
      "execution_count": null,
      "outputs": []
    },
    {
      "cell_type": "markdown",
      "source": [
        "15.  Write a Python program that prints the content of a file and handles the case when the file is empty ?"
      ],
      "metadata": {
        "id": "QJz_J-dENwPM"
      }
    },
    {
      "cell_type": "code",
      "source": [
        "try:\n",
        "    filename = \"example.txt\"\n",
        "\n",
        "    with open(filename, \"r\") as file:\n",
        "        content = file.read()\n",
        "\n",
        "        if content.strip() == \"\":  # Check if file is empty (ignoring spaces/newlines)\n",
        "            print(f\"The file '{filename}' is empty.\")\n",
        "        else:\n",
        "            print(\"File content:\")\n",
        "            print(content)\n",
        "\n",
        "except FileNotFoundError:\n",
        "    print(f\"Error: The file '{filename}' does not exist.\")\n",
        "\n",
        "except Exception as e:\n",
        "    print(f\"An unexpected error occurred: {e}\")"
      ],
      "metadata": {
        "id": "Cbv74YMgN3AF"
      },
      "execution_count": null,
      "outputs": []
    },
    {
      "cell_type": "markdown",
      "source": [
        "16. Demonstrate how to use memory profiling to check the memory usage of a small program ?"
      ],
      "metadata": {
        "id": "zuXAvuSmN_Kp"
      }
    },
    {
      "cell_type": "code",
      "source": [
        "Step 1: Install memory_profiler\n",
        "\n",
        "pip install memory-profiler\n",
        "\n",
        "Step 2: Write a sample program with memory profiling\n",
        "\n",
        "from memory_profiler import profile\n",
        "\n",
        "@profile\n",
        "def create_list():\n",
        "    nums = [i for i in range(100000)]  # Create a big list\n",
        "    squares = [n**2 for n in nums]     # Create list of squares\n",
        "    return squares\n",
        "\n",
        "if __name__ == \"__main__\":\n",
        "    create_list()\n",
        "\n",
        "Step 3: Run the program with memory profiling\n",
        "You need to run it with the -m memory_profiler option:\n",
        "\n",
        "python -m memory_profiler myscript.py\n",
        "\n",
        "Example Output:\n",
        "\n",
        "Line #    Mem usage    Increment  Occurrences   Line Contents\n",
        "=============================================================\n",
        "     4     8.2 MiB     0.0 MiB           1   @profile\n",
        "     5     9.0 MiB     0.8 MiB           1   def create_list():\n",
        "     6    10.5 MiB     1.5 MiB           1       nums = [i for i in range(100000)]\n",
        "     7    11.8 MiB     1.3 MiB           1       squares = [n**2 for n in nums]\n",
        "     8    11.8 MiB     0.0 MiB           1       return squares"
      ],
      "metadata": {
        "id": "_rWyRm0nOHIj"
      },
      "execution_count": null,
      "outputs": []
    },
    {
      "cell_type": "markdown",
      "source": [
        "17. Write a Python program to create and write a list of numbers to a file, one number per line"
      ],
      "metadata": {
        "id": "1WIq_85xOp3y"
      }
    },
    {
      "cell_type": "code",
      "source": [
        "# List of numbers\n",
        "numbers = [10, 20, 30, 40, 50]\n",
        "\n",
        "try:\n",
        "    # Open file in write mode\n",
        "    with open(\"numbers.txt\", \"w\") as file:\n",
        "        for num in numbers:\n",
        "            file.write(f\"{num}\\n\")  # Write each number followed by a newline\n",
        "\n",
        "    print(\"Numbers have been written to 'numbers.txt' successfully.\")\n",
        "\n",
        "except Exception as e:\n",
        "    print(f\"An error occurred: {e}\")"
      ],
      "metadata": {
        "id": "eTIRAJcSRP63"
      },
      "execution_count": null,
      "outputs": []
    },
    {
      "cell_type": "markdown",
      "source": [
        "18. How would you implement a basic logging setup that logs to a file with rotation after 1MB ?"
      ],
      "metadata": {
        "id": "5Xp6ZixbRoLS"
      }
    },
    {
      "cell_type": "code",
      "source": [
        "import logging\n",
        "from logging.handlers import RotatingFileHandler\n",
        "\n",
        "# Create a logger\n",
        "logger = logging.getLogger(\"MyLogger\")\n",
        "logger.setLevel(logging.DEBUG)  # Capture all levels\n",
        "\n",
        "# Create a rotating file handler\n",
        "handler = RotatingFileHandler(\n",
        "    \"app.log\",        # Log file name\n",
        "    maxBytes=1_000_000,  # 1MB max file size before rotation\n",
        "    backupCount=3        # Keep up to 3 old log files\n",
        ")\n",
        "\n",
        "# Set log format\n",
        "formatter = logging.Formatter('%(asctime)s - %(levelname)s - %(message)s')\n",
        "handler.setFormatter(formatter)\n",
        "\n",
        "# Add handler to logger\n",
        "logger.addHandler(handler)\n",
        "\n",
        "# Example logs\n",
        "for i in range(10000):\n",
        "    logger.info(f\"This is log message #{i}\")\n"
      ],
      "metadata": {
        "id": "1uabdoXuShqR"
      },
      "execution_count": null,
      "outputs": []
    },
    {
      "cell_type": "markdown",
      "source": [
        "19. Write a program that handles both IndexError and KeyError using a try-except block"
      ],
      "metadata": {
        "id": "qGmsOdGKSlYK"
      }
    },
    {
      "cell_type": "code",
      "source": [
        "# Sample list and dictionary\n",
        "fruits = [\"Apple\", \"Banana\", \"Cherry\"]\n",
        "student = {\"name\": \"Alice\", \"age\": 20}\n",
        "\n",
        "try:\n",
        "    # Trying to access an invalid list index\n",
        "    print(fruits[5])\n",
        "\n",
        "    # Trying to access a non-existent dictionary key\n",
        "    print(student[\"grade\"])\n",
        "\n",
        "except IndexError:\n",
        "    print(\"Error: List index out of range.\")\n",
        "\n",
        "except KeyError as e:\n",
        "    print(f\"Error: The key '{e.args[0]}' does not exist in the dictionary.\")"
      ],
      "metadata": {
        "id": "_Vq2ftvOSyF_"
      },
      "execution_count": null,
      "outputs": []
    },
    {
      "cell_type": "markdown",
      "source": [
        "20.  How would you open a file and read its contents using a context manager in Python ?"
      ],
      "metadata": {
        "id": "Ls-j7f8ITA-d"
      }
    },
    {
      "cell_type": "code",
      "source": [
        "# Open and read a file using a context manager\n",
        "filename = \"example.txt\"\n",
        "\n",
        "try:\n",
        "    with open(filename, \"r\") as file:\n",
        "        content = file.read()\n",
        "        print(\"File contents:\")\n",
        "        print(content)\n",
        "\n",
        "except FileNotFoundError:\n",
        "    print(f\"Error: The file '{filename}' does not exist.\")"
      ],
      "metadata": {
        "id": "A6KUZgjlTObI"
      },
      "execution_count": null,
      "outputs": []
    },
    {
      "cell_type": "markdown",
      "source": [
        "21. Write a Python program that reads a file and prints the number of occurrences of a specific word ?"
      ],
      "metadata": {
        "id": "YkFrWYXTTa0a"
      }
    },
    {
      "cell_type": "code",
      "source": [
        "# File name and target word\n",
        "filename = \"example.txt\"\n",
        "target_word = \"apple\"\n",
        "\n",
        "try:\n",
        "    with open(filename, \"r\") as file:\n",
        "        content = file.read().lower()  # Convert to lowercase for case-insensitive search\n",
        "\n",
        "    # Count occurrences\n",
        "    count = content.split().count(target_word.lower())\n",
        "\n",
        "    print(f\"The word '{target_word}' occurs {count} times in '{filename}'.\")\n",
        "\n",
        "except FileNotFoundError:\n",
        "    print(f\"Error: The file '{filename}' does not exist.\")\n",
        "\n",
        "except Exception as e:\n",
        "    print(f\"An unexpected error occurred: {e}\")\n"
      ],
      "metadata": {
        "id": "IbSJ1loITaWx"
      },
      "execution_count": null,
      "outputs": []
    },
    {
      "cell_type": "markdown",
      "source": [
        "22. How can you check if a file is empty before attempting to read its contents ?"
      ],
      "metadata": {
        "id": "EN1aMmEGTywm"
      }
    },
    {
      "cell_type": "code",
      "source": [
        "Method 1: Using os.path.getsize()\n",
        "\n",
        "import os\n",
        "\n",
        "filename = \"example.txt\"\n",
        "\n",
        "if os.path.exists(filename) and os.path.getsize(filename) > 0:\n",
        "    with open(filename, \"r\") as file:\n",
        "        content = file.read()\n",
        "        print(content)\n",
        "else:\n",
        "    print(f\"The file '{filename}' is empty or does not exist.\")\n",
        "\n",
        "Method 2: Using pathlib (modern approach)\n",
        "\n",
        "from pathlib import Path\n",
        "\n",
        "file_path = Path(\"example.txt\")\n",
        "\n",
        "if file_path.exists() and file_path.stat().st_size > 0:\n",
        "    with file_path.open(\"r\") as file:\n",
        "        content = file.read()\n",
        "        print(content)\n",
        "else:\n",
        "    print(f\"The file '{file_path}' is empty or does not exist.\")"
      ],
      "metadata": {
        "id": "8wxPjODAT9Zx"
      },
      "execution_count": null,
      "outputs": []
    },
    {
      "cell_type": "markdown",
      "source": [
        "23. Write a Python program that writes to a log file when an error occurs during file handling ?"
      ],
      "metadata": {
        "id": "XSxmi-H9UStG"
      }
    },
    {
      "cell_type": "code",
      "source": [
        "import logging\n",
        "\n",
        "# Configure logging\n",
        "logging.basicConfig(\n",
        "    filename='file_errors.log',\n",
        "    level=logging.ERROR,\n",
        "    format='%(asctime)s - %(levelname)s - %(message)s'\n",
        ")\n",
        "\n",
        "filename = \"example.txt\"\n",
        "\n",
        "try:\n",
        "    with open(filename, \"r\") as file:\n",
        "        content = file.read()\n",
        "        print(\"File contents:\")\n",
        "        print(content)\n",
        "\n",
        "except FileNotFoundError as e:\n",
        "    logging.error(f\"File not found: {filename} - {e}\")\n",
        "    print(f\"Error: The file '{filename}' does not exist.\")\n",
        "\n",
        "except PermissionError as e:\n",
        "    logging.error(f\"Permission denied for file: {filename} - {e}\")\n",
        "    print(f\"Error: You don't have permission to access '{filename}'.\")\n",
        "\n",
        "except Exception as e:\n",
        "    logging.error(f\"Unexpected error while handling file '{filename}': {e}\")\n",
        "    print(f\"An unexpected error occurred: {e}\")"
      ],
      "metadata": {
        "id": "IkMPTerKUngj"
      },
      "execution_count": null,
      "outputs": []
    }
  ]
}